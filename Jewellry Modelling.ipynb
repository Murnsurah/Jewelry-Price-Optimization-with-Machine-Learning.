{
 "cells": [
  {
   "cell_type": "markdown",
   "id": "35b70e0f",
   "metadata": {},
   "source": [
    "## Machine learning for Jewellry Price Optimization\n",
    "This project aims to successfully predict the prices of jewelry pieces. This allows the jewelry company to reduce it's dependece of gemologists and expensive jewelry appraisal experts."
   ]
  },
  {
   "cell_type": "markdown",
   "id": "38ab6be1",
   "metadata": {},
   "source": [
    "## Methodology\n",
    "This project will be carried out using the crisp - DM (Cross Industry Standard Process For Data Mining )methodology. This is one of the more popular DS methodologies and it is characterized by six important phases such as:\n",
    "1. Business Understanding\n",
    "2. Data Understanding\n",
    "3. Data Preparation\n",
    "4. Data Modeling\n",
    "5. Data evaluation\n",
    "6. Data deployment"
   ]
  },
  {
   "cell_type": "markdown",
   "id": "c270fe06",
   "metadata": {},
   "source": [
    "## Business Understanding\n",
    "Gemineye Emporium is a jewelery dealer and they have begun a new wve of expansion into the country.While this is good for business, however it comes with increased costs and increased need for operational efficiency.\n",
    "Hence, there is a need for them to accurately price their jewelry products as it is currently being priced by jewelry experts and gemologists. \n",
    "However, this process is long and expensive as jewelry experts are not easy to come by and are also quite pricey. **Gemineye** would love to explore the use of Machine Learning for predicting the optimal prices at which their jewelry would be sold. Utilizing ML for this task would allow the company:\n",
    "1. *improve the speed and scalability of their pricing process\n",
    "2. *cut down on the costs of hiring gem experts"
   ]
  },
  {
   "cell_type": "markdown",
   "id": "9dbe54b6",
   "metadata": {},
   "source": [
    "## Data Understanding\n",
    "Exploratory Data analysis (EDA) is performed to understand the data obtained and used for the task. "
   ]
  },
  {
   "cell_type": "code",
   "execution_count": 5,
   "id": "d8393ec7",
   "metadata": {},
   "outputs": [],
   "source": [
    "#importing needed libraries\n",
    "import pandas as pd\n",
    "import numpy as np\n",
    "import seaborn as sns\n",
    "import matplotlib.pyplot as plt\n",
    "\n",
    "#set visualization theme\n",
    "sns.set()"
   ]
  },
  {
   "cell_type": "code",
   "execution_count": 6,
   "id": "4d6b81e2",
   "metadata": {},
   "outputs": [
    {
     "ename": "NameError",
     "evalue": "name 'data' is not defined",
     "output_type": "error",
     "traceback": [
      "\u001b[1;31m---------------------------------------------------------------------------\u001b[0m",
      "\u001b[1;31mNameError\u001b[0m                                 Traceback (most recent call last)",
      "\u001b[1;32m~\\AppData\\Local\\Temp\\ipykernel_9696\\2583742047.py\u001b[0m in \u001b[0;36m<module>\u001b[1;34m\u001b[0m\n\u001b[0;32m      1\u001b[0m \u001b[1;31m#shape of the data\u001b[0m\u001b[1;33m\u001b[0m\u001b[1;33m\u001b[0m\u001b[0m\n\u001b[1;32m----> 2\u001b[1;33m \u001b[0mdata\u001b[0m\u001b[1;33m.\u001b[0m\u001b[0mshape\u001b[0m\u001b[1;33m\u001b[0m\u001b[1;33m\u001b[0m\u001b[0m\n\u001b[0m",
      "\u001b[1;31mNameError\u001b[0m: name 'data' is not defined"
     ]
    }
   ],
   "source": [
    "#shape of the data\n",
    "data.shape"
   ]
  },
  {
   "cell_type": "code",
   "execution_count": null,
   "id": "14393ae4",
   "metadata": {},
   "outputs": [],
   "source": [
    "#basic info of the data\n",
    "data.info()"
   ]
  },
  {
   "cell_type": "code",
   "execution_count": 7,
   "id": "b8696264",
   "metadata": {},
   "outputs": [
    {
     "data": {
      "text/html": [
       "<div>\n",
       "<style scoped>\n",
       "    .dataframe tbody tr th:only-of-type {\n",
       "        vertical-align: middle;\n",
       "    }\n",
       "\n",
       "    .dataframe tbody tr th {\n",
       "        vertical-align: top;\n",
       "    }\n",
       "\n",
       "    .dataframe thead th {\n",
       "        text-align: right;\n",
       "    }\n",
       "</style>\n",
       "<table border=\"1\" class=\"dataframe\">\n",
       "  <thead>\n",
       "    <tr style=\"text-align: right;\">\n",
       "      <th></th>\n",
       "      <th>Order datetime</th>\n",
       "      <th>Order ID</th>\n",
       "      <th>Purchased product ID</th>\n",
       "      <th>SKU_Quantity</th>\n",
       "      <th>Category_ID</th>\n",
       "      <th>Category</th>\n",
       "      <th>Brand_ID</th>\n",
       "      <th>Price_USD</th>\n",
       "      <th>User_ID</th>\n",
       "      <th>Target_gender</th>\n",
       "      <th>Main_color</th>\n",
       "      <th>Main_metal</th>\n",
       "      <th>Main_gem</th>\n",
       "    </tr>\n",
       "  </thead>\n",
       "  <tbody>\n",
       "    <tr>\n",
       "      <th>0</th>\n",
       "      <td>2018-12-01 17:38:31 UTC</td>\n",
       "      <td>1924899396621697920</td>\n",
       "      <td>1806829193678291446</td>\n",
       "      <td>1</td>\n",
       "      <td>1.806829e+18</td>\n",
       "      <td>NaN</td>\n",
       "      <td>NaN</td>\n",
       "      <td>212.14</td>\n",
       "      <td>1.515916e+18</td>\n",
       "      <td>NaN</td>\n",
       "      <td>yellow</td>\n",
       "      <td>gold</td>\n",
       "      <td>NaN</td>\n",
       "    </tr>\n",
       "    <tr>\n",
       "      <th>1</th>\n",
       "      <td>2018-12-02 13:53:42 UTC</td>\n",
       "      <td>1925511016616034733</td>\n",
       "      <td>1842214461889315556</td>\n",
       "      <td>1</td>\n",
       "      <td>1.806829e+18</td>\n",
       "      <td>jewelry.pendant</td>\n",
       "      <td>1.0</td>\n",
       "      <td>54.66</td>\n",
       "      <td>1.515916e+18</td>\n",
       "      <td>f</td>\n",
       "      <td>white</td>\n",
       "      <td>gold</td>\n",
       "      <td>sapphire</td>\n",
       "    </tr>\n",
       "    <tr>\n",
       "      <th>2</th>\n",
       "      <td>2018-12-02 17:44:02 UTC</td>\n",
       "      <td>1925626951238681511</td>\n",
       "      <td>1835566849434059453</td>\n",
       "      <td>1</td>\n",
       "      <td>1.806829e+18</td>\n",
       "      <td>jewelry.pendant</td>\n",
       "      <td>0.0</td>\n",
       "      <td>88.90</td>\n",
       "      <td>1.515916e+18</td>\n",
       "      <td>f</td>\n",
       "      <td>red</td>\n",
       "      <td>gold</td>\n",
       "      <td>diamond</td>\n",
       "    </tr>\n",
       "    <tr>\n",
       "      <th>3</th>\n",
       "      <td>2018-12-02 21:30:19 UTC</td>\n",
       "      <td>1925740842841014667</td>\n",
       "      <td>1873936840742928865</td>\n",
       "      <td>1</td>\n",
       "      <td>1.806829e+18</td>\n",
       "      <td>jewelry.necklace</td>\n",
       "      <td>0.0</td>\n",
       "      <td>417.67</td>\n",
       "      <td>1.515916e+18</td>\n",
       "      <td>NaN</td>\n",
       "      <td>red</td>\n",
       "      <td>gold</td>\n",
       "      <td>amethyst</td>\n",
       "    </tr>\n",
       "    <tr>\n",
       "      <th>4</th>\n",
       "      <td>2018-12-02 22:09:34 UTC</td>\n",
       "      <td>1925760595336888995</td>\n",
       "      <td>1835566854827934449</td>\n",
       "      <td>1</td>\n",
       "      <td>1.806829e+18</td>\n",
       "      <td>jewelry.earring</td>\n",
       "      <td>1.0</td>\n",
       "      <td>102.27</td>\n",
       "      <td>1.515916e+18</td>\n",
       "      <td>NaN</td>\n",
       "      <td>red</td>\n",
       "      <td>gold</td>\n",
       "      <td>NaN</td>\n",
       "    </tr>\n",
       "  </tbody>\n",
       "</table>\n",
       "</div>"
      ],
      "text/plain": [
       "            Order datetime             Order ID  Purchased product ID  \\\n",
       "0  2018-12-01 17:38:31 UTC  1924899396621697920   1806829193678291446   \n",
       "1  2018-12-02 13:53:42 UTC  1925511016616034733   1842214461889315556   \n",
       "2  2018-12-02 17:44:02 UTC  1925626951238681511   1835566849434059453   \n",
       "3  2018-12-02 21:30:19 UTC  1925740842841014667   1873936840742928865   \n",
       "4  2018-12-02 22:09:34 UTC  1925760595336888995   1835566854827934449   \n",
       "\n",
       "   SKU_Quantity   Category_ID          Category  Brand_ID  Price_USD  \\\n",
       "0             1  1.806829e+18               NaN       NaN     212.14   \n",
       "1             1  1.806829e+18   jewelry.pendant       1.0      54.66   \n",
       "2             1  1.806829e+18   jewelry.pendant       0.0      88.90   \n",
       "3             1  1.806829e+18  jewelry.necklace       0.0     417.67   \n",
       "4             1  1.806829e+18   jewelry.earring       1.0     102.27   \n",
       "\n",
       "        User_ID Target_gender Main_color Main_metal  Main_gem  \n",
       "0  1.515916e+18           NaN     yellow       gold       NaN  \n",
       "1  1.515916e+18             f      white       gold  sapphire  \n",
       "2  1.515916e+18             f        red       gold   diamond  \n",
       "3  1.515916e+18           NaN        red       gold  amethyst  \n",
       "4  1.515916e+18           NaN        red       gold       NaN  "
      ]
     },
     "execution_count": 7,
     "metadata": {},
     "output_type": "execute_result"
    }
   ],
   "source": [
    "data = pd.read_csv('Jewelry_Dataset.csv')\n",
    "\n",
    "data.columns = ['Order datetime',\n",
    "                'Order ID',\n",
    "                'Purchased product ID',\n",
    "                'SKU_Quantity',\n",
    "                'Category_ID',\n",
    "                'Category',\n",
    "                'Brand_ID',\n",
    "                'Price_USD',\n",
    "                'User_ID',\n",
    "                'Target_gender',\n",
    "                'Main_color',\n",
    "                \"Main_metal\",\n",
    "                'Main_gem'  \n",
    "                ]\n",
    "\n",
    "data.head()"
   ]
  },
  {
   "cell_type": "code",
   "execution_count": 11,
   "id": "0b1cc48a",
   "metadata": {},
   "outputs": [
    {
     "data": {
      "text/plain": [
       "Order datetime              0\n",
       "Order ID                    0\n",
       "Purchased product ID        0\n",
       "SKU_Quantity                0\n",
       "Category_ID              5352\n",
       "Category                 9933\n",
       "Brand_ID                 4785\n",
       "Price_USD                5352\n",
       "User_ID                  5352\n",
       "Target_gender           48167\n",
       "Main_color               7660\n",
       "Main_metal               5462\n",
       "Main_gem                34058\n",
       "dtype: int64"
      ]
     },
     "execution_count": 11,
     "metadata": {},
     "output_type": "execute_result"
    }
   ],
   "source": [
    "#explore missing values\n",
    "data.isnull().sum()"
   ]
  },
  {
   "cell_type": "code",
   "execution_count": 15,
   "id": "609c32f0",
   "metadata": {},
   "outputs": [
    {
     "data": {
      "text/plain": [
       "Order datetime          74504\n",
       "Order ID                74759\n",
       "Purchased product ID     9613\n",
       "SKU_Quantity                1\n",
       "Category_ID                25\n",
       "Category                  218\n",
       "Brand_ID                 2537\n",
       "Price_USD                3166\n",
       "User_ID                 31079\n",
       "Target_gender               2\n",
       "Main_color                  5\n",
       "Main_metal                  3\n",
       "Main_gem                   30\n",
       "dtype: int64"
      ]
     },
     "execution_count": 15,
     "metadata": {},
     "output_type": "execute_result"
    }
   ],
   "source": [
    "#check feature cardinality\n",
    "data.nunique()"
   ]
  },
  {
   "cell_type": "code",
   "execution_count": 16,
   "id": "70dcbea9",
   "metadata": {},
   "outputs": [
    {
     "data": {
      "text/html": [
       "<div>\n",
       "<style scoped>\n",
       "    .dataframe tbody tr th:only-of-type {\n",
       "        vertical-align: middle;\n",
       "    }\n",
       "\n",
       "    .dataframe tbody tr th {\n",
       "        vertical-align: top;\n",
       "    }\n",
       "\n",
       "    .dataframe thead th {\n",
       "        text-align: right;\n",
       "    }\n",
       "</style>\n",
       "<table border=\"1\" class=\"dataframe\">\n",
       "  <thead>\n",
       "    <tr style=\"text-align: right;\">\n",
       "      <th></th>\n",
       "      <th>Order ID</th>\n",
       "      <th>Purchased product ID</th>\n",
       "      <th>SKU_Quantity</th>\n",
       "      <th>Category_ID</th>\n",
       "      <th>Brand_ID</th>\n",
       "      <th>Price_USD</th>\n",
       "      <th>User_ID</th>\n",
       "    </tr>\n",
       "  </thead>\n",
       "  <tbody>\n",
       "    <tr>\n",
       "      <th>count</th>\n",
       "      <td>9.591000e+04</td>\n",
       "      <td>9.591000e+04</td>\n",
       "      <td>95910.0</td>\n",
       "      <td>9.055800e+04</td>\n",
       "      <td>9.112500e+04</td>\n",
       "      <td>90558.000000</td>\n",
       "      <td>9.055800e+04</td>\n",
       "    </tr>\n",
       "    <tr>\n",
       "      <th>mean</th>\n",
       "      <td>2.485191e+18</td>\n",
       "      <td>1.815970e+18</td>\n",
       "      <td>1.0</td>\n",
       "      <td>1.805947e+18</td>\n",
       "      <td>8.891036e+16</td>\n",
       "      <td>362.213017</td>\n",
       "      <td>1.512644e+18</td>\n",
       "    </tr>\n",
       "    <tr>\n",
       "      <th>std</th>\n",
       "      <td>1.934750e+17</td>\n",
       "      <td>2.136814e+17</td>\n",
       "      <td>0.0</td>\n",
       "      <td>2.083954e+16</td>\n",
       "      <td>3.559651e+17</td>\n",
       "      <td>444.157665</td>\n",
       "      <td>2.374776e+16</td>\n",
       "    </tr>\n",
       "    <tr>\n",
       "      <th>min</th>\n",
       "      <td>1.924899e+18</td>\n",
       "      <td>1.313551e+18</td>\n",
       "      <td>1.0</td>\n",
       "      <td>1.313678e+18</td>\n",
       "      <td>0.000000e+00</td>\n",
       "      <td>0.990000</td>\n",
       "      <td>1.313554e+18</td>\n",
       "    </tr>\n",
       "    <tr>\n",
       "      <th>25%</th>\n",
       "      <td>2.379732e+18</td>\n",
       "      <td>1.515966e+18</td>\n",
       "      <td>1.0</td>\n",
       "      <td>1.806829e+18</td>\n",
       "      <td>0.000000e+00</td>\n",
       "      <td>145.620000</td>\n",
       "      <td>1.515916e+18</td>\n",
       "    </tr>\n",
       "    <tr>\n",
       "      <th>50%</th>\n",
       "      <td>2.524282e+18</td>\n",
       "      <td>1.956664e+18</td>\n",
       "      <td>1.0</td>\n",
       "      <td>1.806829e+18</td>\n",
       "      <td>1.000000e+00</td>\n",
       "      <td>258.770000</td>\n",
       "      <td>1.515916e+18</td>\n",
       "    </tr>\n",
       "    <tr>\n",
       "      <th>75%</th>\n",
       "      <td>2.644347e+18</td>\n",
       "      <td>1.956664e+18</td>\n",
       "      <td>1.0</td>\n",
       "      <td>1.806829e+18</td>\n",
       "      <td>1.000000e+00</td>\n",
       "      <td>431.370000</td>\n",
       "      <td>1.515916e+18</td>\n",
       "    </tr>\n",
       "    <tr>\n",
       "      <th>max</th>\n",
       "      <td>2.719022e+18</td>\n",
       "      <td>2.541962e+18</td>\n",
       "      <td>1.0</td>\n",
       "      <td>1.806829e+18</td>\n",
       "      <td>1.550613e+18</td>\n",
       "      <td>34448.600000</td>\n",
       "      <td>1.554297e+18</td>\n",
       "    </tr>\n",
       "  </tbody>\n",
       "</table>\n",
       "</div>"
      ],
      "text/plain": [
       "           Order ID  Purchased product ID  SKU_Quantity   Category_ID  \\\n",
       "count  9.591000e+04          9.591000e+04       95910.0  9.055800e+04   \n",
       "mean   2.485191e+18          1.815970e+18           1.0  1.805947e+18   \n",
       "std    1.934750e+17          2.136814e+17           0.0  2.083954e+16   \n",
       "min    1.924899e+18          1.313551e+18           1.0  1.313678e+18   \n",
       "25%    2.379732e+18          1.515966e+18           1.0  1.806829e+18   \n",
       "50%    2.524282e+18          1.956664e+18           1.0  1.806829e+18   \n",
       "75%    2.644347e+18          1.956664e+18           1.0  1.806829e+18   \n",
       "max    2.719022e+18          2.541962e+18           1.0  1.806829e+18   \n",
       "\n",
       "           Brand_ID     Price_USD       User_ID  \n",
       "count  9.112500e+04  90558.000000  9.055800e+04  \n",
       "mean   8.891036e+16    362.213017  1.512644e+18  \n",
       "std    3.559651e+17    444.157665  2.374776e+16  \n",
       "min    0.000000e+00      0.990000  1.313554e+18  \n",
       "25%    0.000000e+00    145.620000  1.515916e+18  \n",
       "50%    1.000000e+00    258.770000  1.515916e+18  \n",
       "75%    1.000000e+00    431.370000  1.515916e+18  \n",
       "max    1.550613e+18  34448.600000  1.554297e+18  "
      ]
     },
     "execution_count": 16,
     "metadata": {},
     "output_type": "execute_result"
    }
   ],
   "source": [
    "#data description\n",
    "data.describe()"
   ]
  },
  {
   "cell_type": "code",
   "execution_count": 17,
   "id": "001d7e5d",
   "metadata": {},
   "outputs": [
    {
     "name": "stdout",
     "output_type": "stream",
     "text": [
      "Number of Duplicated records: 2589\n"
     ]
    }
   ],
   "source": [
    "#check duplicate values\n",
    "num_duplicated = len(data.loc[data.duplicated()])\n",
    "print(f\"Number of Duplicated records:\", num_duplicated)"
   ]
  },
  {
   "cell_type": "code",
   "execution_count": 19,
   "id": "51bc3bf3",
   "metadata": {},
   "outputs": [
    {
     "data": {
      "text/plain": [
       "['SKU_Quantity']"
      ]
     },
     "execution_count": 19,
     "metadata": {},
     "output_type": "execute_result"
    }
   ],
   "source": [
    "#features with a cardinality of 1 (invariant features)\n",
    "invariant_features = data.nunique()[data.nunique() == 1].index.tolist()\n",
    "invariant_features"
   ]
  },
  {
   "cell_type": "code",
   "execution_count": 20,
   "id": "0570c44f",
   "metadata": {},
   "outputs": [
    {
     "data": {
      "text/plain": [
       "18.95906072625981"
      ]
     },
     "execution_count": 20,
     "metadata": {},
     "output_type": "execute_result"
    }
   ],
   "source": [
    "#check for label ditribution\n",
    "data['Price_USD'].skew()"
   ]
  },
  {
   "cell_type": "code",
   "execution_count": null,
   "id": "6e869da8",
   "metadata": {},
   "outputs": [],
   "source": [
    "#visalize price distribution\n",
    "sns.set(figsize = 20,20))\n"
   ]
  },
  {
   "cell_type": "code",
   "execution_count": null,
   "id": "28b147ce",
   "metadata": {},
   "outputs": [],
   "source": []
  },
  {
   "cell_type": "code",
   "execution_count": 6,
   "id": "5aed6ea8",
   "metadata": {},
   "outputs": [
    {
     "data": {
      "text/html": [
       "<div>\n",
       "<style scoped>\n",
       "    .dataframe tbody tr th:only-of-type {\n",
       "        vertical-align: middle;\n",
       "    }\n",
       "\n",
       "    .dataframe tbody tr th {\n",
       "        vertical-align: top;\n",
       "    }\n",
       "\n",
       "    .dataframe thead th {\n",
       "        text-align: right;\n",
       "    }\n",
       "</style>\n",
       "<table border=\"1\" class=\"dataframe\">\n",
       "  <thead>\n",
       "    <tr style=\"text-align: right;\">\n",
       "      <th></th>\n",
       "      <th>Column name</th>\n",
       "      <th>Column description</th>\n",
       "    </tr>\n",
       "  </thead>\n",
       "  <tbody>\n",
       "    <tr>\n",
       "      <th>0</th>\n",
       "      <td>Order datetime</td>\n",
       "      <td>Date  product was ordered</td>\n",
       "    </tr>\n",
       "    <tr>\n",
       "      <th>1</th>\n",
       "      <td>Order ID</td>\n",
       "      <td>Identifier for order</td>\n",
       "    </tr>\n",
       "    <tr>\n",
       "      <th>2</th>\n",
       "      <td>Purchased product ID</td>\n",
       "      <td>Identifier for product ordered</td>\n",
       "    </tr>\n",
       "    <tr>\n",
       "      <th>3</th>\n",
       "      <td>Quantity of SKU in the order</td>\n",
       "      <td>Amount of stock keeping unit ordered</td>\n",
       "    </tr>\n",
       "    <tr>\n",
       "      <th>4</th>\n",
       "      <td>Category ID</td>\n",
       "      <td>Jewelry category identifier</td>\n",
       "    </tr>\n",
       "    <tr>\n",
       "      <th>5</th>\n",
       "      <td>Category alias</td>\n",
       "      <td>Jewelry category</td>\n",
       "    </tr>\n",
       "    <tr>\n",
       "      <th>6</th>\n",
       "      <td>Brand ID</td>\n",
       "      <td>Brand identifier</td>\n",
       "    </tr>\n",
       "    <tr>\n",
       "      <th>7</th>\n",
       "      <td>Price in USD</td>\n",
       "      <td>Jewelry price</td>\n",
       "    </tr>\n",
       "    <tr>\n",
       "      <th>8</th>\n",
       "      <td>User ID</td>\n",
       "      <td>User identifier</td>\n",
       "    </tr>\n",
       "    <tr>\n",
       "      <th>9</th>\n",
       "      <td>Product gender (for male/female)</td>\n",
       "      <td>Target gender for product</td>\n",
       "    </tr>\n",
       "    <tr>\n",
       "      <th>10</th>\n",
       "      <td>Main Color</td>\n",
       "      <td>Main color of the jewelry piece</td>\n",
       "    </tr>\n",
       "    <tr>\n",
       "      <th>11</th>\n",
       "      <td>Main metal</td>\n",
       "      <td>The main metal used for mounting of the piece</td>\n",
       "    </tr>\n",
       "    <tr>\n",
       "      <th>12</th>\n",
       "      <td>Main gem</td>\n",
       "      <td>What gem type mounted on the jewelry piece</td>\n",
       "    </tr>\n",
       "  </tbody>\n",
       "</table>\n",
       "</div>"
      ],
      "text/plain": [
       "                         Column name  \\\n",
       "0                     Order datetime   \n",
       "1                           Order ID   \n",
       "2               Purchased product ID   \n",
       "3       Quantity of SKU in the order   \n",
       "4                        Category ID   \n",
       "5                     Category alias   \n",
       "6                           Brand ID   \n",
       "7                       Price in USD   \n",
       "8                            User ID   \n",
       "9   Product gender (for male/female)   \n",
       "10                        Main Color   \n",
       "11                        Main metal   \n",
       "12                          Main gem   \n",
       "\n",
       "                               Column description  \n",
       "0                       Date  product was ordered  \n",
       "1                            Identifier for order  \n",
       "2                  Identifier for product ordered  \n",
       "3            Amount of stock keeping unit ordered  \n",
       "4                     Jewelry category identifier  \n",
       "5                                Jewelry category  \n",
       "6                                Brand identifier  \n",
       "7                                   Jewelry price  \n",
       "8                                 User identifier  \n",
       "9                       Target gender for product  \n",
       "10                Main color of the jewelry piece  \n",
       "11  The main metal used for mounting of the piece  \n",
       "12     What gem type mounted on the jewelry piece  "
      ]
     },
     "execution_count": 6,
     "metadata": {},
     "output_type": "execute_result"
    }
   ],
   "source": [
    "dic = pd.read_excel('Jewelry_Data_Dictionary.xlsx')\n",
    "dic"
   ]
  },
  {
   "cell_type": "code",
   "execution_count": 8,
   "id": "84add101",
   "metadata": {},
   "outputs": [
    {
     "name": "stdout",
     "output_type": "stream",
     "text": [
      "<class 'pandas.core.frame.DataFrame'>\n",
      "RangeIndex: 95910 entries, 0 to 95909\n",
      "Data columns (total 13 columns):\n",
      " #   Column                Non-Null Count  Dtype  \n",
      "---  ------                --------------  -----  \n",
      " 0   Order datetime        95910 non-null  object \n",
      " 1   Order ID              95910 non-null  int64  \n",
      " 2   Purchased product ID  95910 non-null  int64  \n",
      " 3   SKU_Quantity          95910 non-null  int64  \n",
      " 4   Category_ID           90558 non-null  float64\n",
      " 5   Category              85977 non-null  object \n",
      " 6   Brand_ID              91125 non-null  float64\n",
      " 7   Price_USD             90558 non-null  float64\n",
      " 8   User_ID               90558 non-null  float64\n",
      " 9   Target_gender         47743 non-null  object \n",
      " 10  Main_color            88250 non-null  object \n",
      " 11  Main_metal            90448 non-null  object \n",
      " 12  Main_gem              61852 non-null  object \n",
      "dtypes: float64(4), int64(3), object(6)\n",
      "memory usage: 9.5+ MB\n"
     ]
    }
   ],
   "source": [
    "data.info()"
   ]
  },
  {
   "cell_type": "code",
   "execution_count": null,
   "id": "5c9987c0",
   "metadata": {},
   "outputs": [],
   "source": []
  }
 ],
 "metadata": {
  "kernelspec": {
   "display_name": "Python 3 (ipykernel)",
   "language": "python",
   "name": "python3"
  },
  "language_info": {
   "codemirror_mode": {
    "name": "ipython",
    "version": 3
   },
   "file_extension": ".py",
   "mimetype": "text/x-python",
   "name": "python",
   "nbconvert_exporter": "python",
   "pygments_lexer": "ipython3",
   "version": "3.9.13"
  }
 },
 "nbformat": 4,
 "nbformat_minor": 5
}
